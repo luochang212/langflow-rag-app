{
 "cells": [
  {
   "cell_type": "markdown",
   "id": "e3c3a8e1-d26a-4f88-ae53-2fc95980b737",
   "metadata": {},
   "source": [
    "下载模型：\n",
    "\n",
    "```\n",
    "ollama pull nomic-embed-text:latest\n",
    "```\n",
    "\n",
    "启动服务：\n",
    "\n",
    "```\n",
    "$env:OLLAMA_HOST = \"0.0.0.0:11434\"\n",
    "ollama serve\n",
    "```"
   ]
  },
  {
   "cell_type": "code",
   "execution_count": 12,
   "id": "d7b22c04-a240-4c02-b8c4-2810e19fb105",
   "metadata": {
    "editable": true,
    "execution": {
     "iopub.execute_input": "2025-03-13T08:01:21.807814Z",
     "iopub.status.busy": "2025-03-13T08:01:21.807006Z",
     "iopub.status.idle": "2025-03-13T08:01:21.817115Z",
     "shell.execute_reply": "2025-03-13T08:01:21.815444Z",
     "shell.execute_reply.started": "2025-03-13T08:01:21.807783Z"
    },
    "slideshow": {
     "slide_type": ""
    },
    "tags": []
   },
   "outputs": [],
   "source": [
    "import requests\n",
    "import numpy as np\n",
    "\n",
    "from langchain.embeddings import OllamaEmbeddings"
   ]
  },
  {
   "cell_type": "code",
   "execution_count": 13,
   "id": "833840a2-ce30-45d9-a015-89f9adcb7458",
   "metadata": {
    "execution": {
     "iopub.execute_input": "2025-03-13T08:01:21.985064Z",
     "iopub.status.busy": "2025-03-13T08:01:21.984471Z",
     "iopub.status.idle": "2025-03-13T08:01:21.989653Z",
     "shell.execute_reply": "2025-03-13T08:01:21.988266Z",
     "shell.execute_reply.started": "2025-03-13T08:01:21.985052Z"
    }
   },
   "outputs": [
    {
     "name": "stdout",
     "output_type": "stream",
     "text": [
      "http://192.168.103.225:11434\n"
     ]
    }
   ],
   "source": [
    "# ipconfig  IPv4 地址\n",
    "ipv4 = \"192.168.103.225\"\n",
    "port = \"11434\"\n",
    "\n",
    "base_url = f\"http://{ipv4}:{port}\"\n",
    "print(base_url)"
   ]
  },
  {
   "cell_type": "code",
   "execution_count": 14,
   "id": "e649a9f8-6968-4661-96a8-fa5086fb4d96",
   "metadata": {
    "execution": {
     "iopub.execute_input": "2025-03-13T08:01:22.914579Z",
     "iopub.status.busy": "2025-03-13T08:01:22.914066Z",
     "iopub.status.idle": "2025-03-13T08:01:22.939487Z",
     "shell.execute_reply": "2025-03-13T08:01:22.936612Z",
     "shell.execute_reply.started": "2025-03-13T08:01:22.914552Z"
    }
   },
   "outputs": [
    {
     "name": "stdout",
     "output_type": "stream",
     "text": [
      "Ollama is running\n"
     ]
    }
   ],
   "source": [
    "response = requests.get(base_url)\n",
    "if response.status_code == 200:\n",
    "    print(response.text)"
   ]
  },
  {
   "cell_type": "code",
   "execution_count": 4,
   "id": "29218288-c45b-4f6c-af8c-a0f50e0f1e94",
   "metadata": {
    "execution": {
     "iopub.execute_input": "2025-03-13T07:36:48.978864Z",
     "iopub.status.busy": "2025-03-13T07:36:48.978683Z",
     "iopub.status.idle": "2025-03-13T07:36:48.989683Z",
     "shell.execute_reply": "2025-03-13T07:36:48.988919Z",
     "shell.execute_reply.started": "2025-03-13T07:36:48.978852Z"
    }
   },
   "outputs": [
    {
     "name": "stdout",
     "output_type": "stream",
     "text": [
      "{\"models\":[{\"name\":\"nomic-embed-text:latest\",\"model\":\"nomic-embed-text:latest\",\"modified_at\":\"2025-03-13T13:54:04.7246258+08:00\",\"size\":274302450,\"digest\":\"0a109f422b47e3a30ba2b10eca18548e944e8a23073ee3f3e947efcf3c45e59f\",\"details\":{\"parent_model\":\"\",\"format\":\"gguf\",\"family\":\"nomic-bert\",\"families\":[\"nomic-bert\"],\"parameter_size\":\"137M\",\"quantization_level\":\"F16\"}},{\"name\":\"deepseek-r1:1.5b\",\"model\":\"deepseek-r1:1.5b\",\"modified_at\":\"2025-03-05T01:53:39.789101+08:00\",\"size\":1117322599,\"digest\":\"a42b25d8c10a841bd24724309898ae851466696a7d7f3a0a408b895538ccbc96\",\"details\":{\"parent_model\":\"\",\"format\":\"gguf\",\"family\":\"qwen2\",\"families\":[\"qwen2\"],\"parameter_size\":\"1.8B\",\"quantization_level\":\"Q4_K_M\"}},{\"name\":\"deepseek-r1:14b\",\"model\":\"deepseek-r1:14b\",\"modified_at\":\"2025-02-11T17:01:50.1992925+08:00\",\"size\":8988112040,\"digest\":\"ea35dfe18182f635ee2b214ea30b7520fe1ada68da018f8b395b444b662d4f1a\",\"details\":{\"parent_model\":\"\",\"format\":\"gguf\",\"family\":\"qwen2\",\"families\":[\"qwen2\"],\"parameter_size\":\"14.8B\",\"quantization_level\":\"Q4_K_M\"}}]}\n"
     ]
    }
   ],
   "source": [
    "response = requests.get(url=f\"{base_url}/api/tags\")\n",
    "if response.status_code == 200:\n",
    "    print(response.text)"
   ]
  },
  {
   "cell_type": "code",
   "execution_count": 5,
   "id": "fddc6ff2-2775-4335-bb80-233387da797a",
   "metadata": {
    "execution": {
     "iopub.execute_input": "2025-03-13T07:36:48.990886Z",
     "iopub.status.busy": "2025-03-13T07:36:48.990435Z",
     "iopub.status.idle": "2025-03-13T07:36:50.025484Z",
     "shell.execute_reply": "2025-03-13T07:36:50.024737Z",
     "shell.execute_reply.started": "2025-03-13T07:36:48.990870Z"
    }
   },
   "outputs": [
    {
     "name": "stderr",
     "output_type": "stream",
     "text": [
      "/tmp/ipykernel_3787/1594770524.py:1: LangChainDeprecationWarning: The class `OllamaEmbeddings` was deprecated in LangChain 0.3.1 and will be removed in 1.0.0. An updated version of the class exists in the :class:`~langchain-ollama package and should be used instead. To use it run `pip install -U :class:`~langchain-ollama` and import as `from :class:`~langchain_ollama import OllamaEmbeddings``.\n",
      "  embeddings = OllamaEmbeddings(model=\"nomic-embed-text:latest\",\n"
     ]
    },
    {
     "data": {
      "text/plain": [
       "(768,)"
      ]
     },
     "execution_count": 5,
     "metadata": {},
     "output_type": "execute_result"
    }
   ],
   "source": [
    "embeddings = OllamaEmbeddings(model=\"nomic-embed-text:latest\",\n",
    "                              base_url=base_url)\n",
    "vector = embeddings.embed_query(\"测试文本\")\n",
    "vector = np.array(vector)\n",
    "vector.shape"
   ]
  },
  {
   "cell_type": "code",
   "execution_count": null,
   "id": "aaca6c82-6638-4fa3-ab6c-32f5aae42607",
   "metadata": {
    "editable": true,
    "slideshow": {
     "slide_type": ""
    },
    "tags": []
   },
   "outputs": [],
   "source": []
  },
  {
   "cell_type": "code",
   "execution_count": 6,
   "id": "499de0d7-bc28-45a4-a1a8-779f70631658",
   "metadata": {
    "execution": {
     "iopub.execute_input": "2025-03-13T07:36:50.026011Z",
     "iopub.status.busy": "2025-03-13T07:36:50.025876Z",
     "iopub.status.idle": "2025-03-13T07:36:50.499735Z",
     "shell.execute_reply": "2025-03-13T07:36:50.499165Z",
     "shell.execute_reply.started": "2025-03-13T07:36:50.026001Z"
    }
   },
   "outputs": [],
   "source": [
    "import chromadb\n",
    "\n",
    "chroma_client = chromadb.Client()"
   ]
  },
  {
   "cell_type": "code",
   "execution_count": null,
   "id": "1c698b1e-fc21-43e8-8bdb-0b2063a56fca",
   "metadata": {},
   "outputs": [],
   "source": []
  }
 ],
 "metadata": {
  "kernelspec": {
   "display_name": "Python 3 (ipykernel)",
   "language": "python",
   "name": "python3"
  },
  "language_info": {
   "codemirror_mode": {
    "name": "ipython",
    "version": 3
   },
   "file_extension": ".py",
   "mimetype": "text/x-python",
   "name": "python",
   "nbconvert_exporter": "python",
   "pygments_lexer": "ipython3",
   "version": "3.12.9"
  }
 },
 "nbformat": 4,
 "nbformat_minor": 5
}
