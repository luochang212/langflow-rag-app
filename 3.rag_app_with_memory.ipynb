{
 "cells": [
  {
   "cell_type": "markdown",
   "id": "26720237-77c7-464c-a084-34dddea0ec86",
   "metadata": {},
   "source": [
    "# 带对话记忆功能的 RAG\n",
    "\n",
    "## 1. `Messsage History` 组件\n",
    "\n",
    "通过添加 `Messsage History` 组件，就可以为 RAG 添加对历史对话的记忆。\n",
    "\n",
    "`Messsage History` 当前还不是一个标准组件，无法在侧边栏搜到。但是你可以去别的有该组件地示例工作流中，拷贝一份组件的代码。没错每个 langflow 组件都是完全由代码定义的。所以可以通过拷贝的方式，跨项目复制组件。拷贝之后，用侧边栏的 `New Custom Component` 的功能，通过代码添加组件。\n",
    "\n",
    "## 2. `Directory` 组件\n",
    "\n",
    "还可以用 `Directory` 组件，输入指定目录下的所有 markdown 文件。\n",
    "\n",
    "我把这几年写的技术博客，全部放到这个目录下面，读入知识库中，这样可以方便我检索以前写过的技术文章。\n",
    "\n",
    "![](./img/rag_flow_with_memory.jpg)\n"
   ]
  },
  {
   "cell_type": "code",
   "execution_count": null,
   "id": "c4ce10aa-1904-4c34-9a7d-5a1640dfd12f",
   "metadata": {},
   "outputs": [],
   "source": []
  }
 ],
 "metadata": {
  "kernelspec": {
   "display_name": "Python 3 (ipykernel)",
   "language": "python",
   "name": "python3"
  },
  "language_info": {
   "codemirror_mode": {
    "name": "ipython",
    "version": 3
   },
   "file_extension": ".py",
   "mimetype": "text/x-python",
   "name": "python",
   "nbconvert_exporter": "python",
   "pygments_lexer": "ipython3",
   "version": "3.10.14"
  }
 },
 "nbformat": 4,
 "nbformat_minor": 5
}
